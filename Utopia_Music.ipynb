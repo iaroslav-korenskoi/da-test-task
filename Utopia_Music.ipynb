{
 "cells": [
  {
   "cell_type": "markdown",
   "metadata": {},
   "source": [
    "# Start"
   ]
  },
  {
   "cell_type": "code",
   "execution_count": 43,
   "metadata": {
    "ExecuteTime": {
     "end_time": "2021-11-03T13:21:36.629647Z",
     "start_time": "2021-11-03T13:21:36.626343Z"
    }
   },
   "outputs": [],
   "source": [
    "import pandas as pd"
   ]
  },
  {
   "cell_type": "code",
   "execution_count": 44,
   "metadata": {
    "ExecuteTime": {
     "end_time": "2021-11-03T13:21:37.671993Z",
     "start_time": "2021-11-03T13:21:37.667611Z"
    }
   },
   "outputs": [],
   "source": [
    "columns_ds1 = ['Stamp', 'Track', 'Artist', 'Feed_Id', 'Feed_Name']\n",
    "columns_ds2 = ['Feed_Id', 'SMP_Station']"
   ]
  },
  {
   "cell_type": "code",
   "execution_count": 45,
   "metadata": {
    "ExecuteTime": {
     "end_time": "2021-11-03T13:21:38.773239Z",
     "start_time": "2021-11-03T13:21:38.113693Z"
    }
   },
   "outputs": [],
   "source": [
    "data_set1 = pd.read_csv('consumption_data.csv')\n",
    "data_set2 = pd.read_csv('feed_station_mapping.csv')"
   ]
  },
  {
   "cell_type": "code",
   "execution_count": 46,
   "metadata": {
    "ExecuteTime": {
     "end_time": "2021-11-03T13:21:38.807320Z",
     "start_time": "2021-11-03T13:21:38.801431Z"
    }
   },
   "outputs": [
    {
     "data": {
      "text/plain": [
       "((521974, 5), ' - ', (1125, 2))"
      ]
     },
     "execution_count": 46,
     "metadata": {},
     "output_type": "execute_result"
    }
   ],
   "source": [
    "# quick overview\n",
    "data_set1.shape, ' - ', data_set2.shape"
   ]
  },
  {
   "cell_type": "markdown",
   "metadata": {},
   "source": [
    "## Looking through the first data set"
   ]
  },
  {
   "cell_type": "code",
   "execution_count": 47,
   "metadata": {
    "ExecuteTime": {
     "end_time": "2021-11-03T13:21:40.134761Z",
     "start_time": "2021-11-03T13:21:40.123578Z"
    }
   },
   "outputs": [
    {
     "data": {
      "text/html": [
       "<div>\n",
       "<style scoped>\n",
       "    .dataframe tbody tr th:only-of-type {\n",
       "        vertical-align: middle;\n",
       "    }\n",
       "\n",
       "    .dataframe tbody tr th {\n",
       "        vertical-align: top;\n",
       "    }\n",
       "\n",
       "    .dataframe thead th {\n",
       "        text-align: right;\n",
       "    }\n",
       "</style>\n",
       "<table border=\"1\" class=\"dataframe\">\n",
       "  <thead>\n",
       "    <tr style=\"text-align: right;\">\n",
       "      <th></th>\n",
       "      <th>Stamp</th>\n",
       "      <th>Track</th>\n",
       "      <th>Artist</th>\n",
       "      <th>Feed_Id</th>\n",
       "      <th>Feed_Name</th>\n",
       "    </tr>\n",
       "  </thead>\n",
       "  <tbody>\n",
       "    <tr>\n",
       "      <th>0</th>\n",
       "      <td>2019-06-07 18:38:00 +0000 UTC</td>\n",
       "      <td>Song_02</td>\n",
       "      <td>artist_08</td>\n",
       "      <td>feed_id_1377</td>\n",
       "      <td>feed_name_1183</td>\n",
       "    </tr>\n",
       "    <tr>\n",
       "      <th>1</th>\n",
       "      <td>2019-06-08 09:04:00 +0000 UTC</td>\n",
       "      <td>Song_02</td>\n",
       "      <td>artist_08</td>\n",
       "      <td>feed_id_1377</td>\n",
       "      <td>feed_name_1183</td>\n",
       "    </tr>\n",
       "    <tr>\n",
       "      <th>2</th>\n",
       "      <td>2019-06-08 19:51:00 +0000 UTC</td>\n",
       "      <td>Song_02</td>\n",
       "      <td>artist_08</td>\n",
       "      <td>feed_id_1377</td>\n",
       "      <td>feed_name_1183</td>\n",
       "    </tr>\n",
       "    <tr>\n",
       "      <th>3</th>\n",
       "      <td>2019-06-09 20:52:00 +0000 UTC</td>\n",
       "      <td>Song_02</td>\n",
       "      <td>artist_08</td>\n",
       "      <td>feed_id_1377</td>\n",
       "      <td>feed_name_1183</td>\n",
       "    </tr>\n",
       "    <tr>\n",
       "      <th>4</th>\n",
       "      <td>2019-06-10 11:06:00 +0000 UTC</td>\n",
       "      <td>Song_02</td>\n",
       "      <td>artist_08</td>\n",
       "      <td>feed_id_1377</td>\n",
       "      <td>feed_name_1183</td>\n",
       "    </tr>\n",
       "  </tbody>\n",
       "</table>\n",
       "</div>"
      ],
      "text/plain": [
       "                           Stamp   Track      Artist       Feed_Id  \\\n",
       "0  2019-06-07 18:38:00 +0000 UTC  Song_02  artist_08  feed_id_1377   \n",
       "1  2019-06-08 09:04:00 +0000 UTC  Song_02  artist_08  feed_id_1377   \n",
       "2  2019-06-08 19:51:00 +0000 UTC  Song_02  artist_08  feed_id_1377   \n",
       "3  2019-06-09 20:52:00 +0000 UTC  Song_02  artist_08  feed_id_1377   \n",
       "4  2019-06-10 11:06:00 +0000 UTC  Song_02  artist_08  feed_id_1377   \n",
       "\n",
       "        Feed_Name  \n",
       "0  feed_name_1183  \n",
       "1  feed_name_1183  \n",
       "2  feed_name_1183  \n",
       "3  feed_name_1183  \n",
       "4  feed_name_1183  "
      ]
     },
     "execution_count": 47,
     "metadata": {},
     "output_type": "execute_result"
    }
   ],
   "source": [
    "data_set1.head()"
   ]
  },
  {
   "cell_type": "code",
   "execution_count": 48,
   "metadata": {
    "ExecuteTime": {
     "end_time": "2021-11-03T13:21:42.253801Z",
     "start_time": "2021-11-03T13:21:41.700651Z"
    }
   },
   "outputs": [
    {
     "data": {
      "text/html": [
       "<div>\n",
       "<style scoped>\n",
       "    .dataframe tbody tr th:only-of-type {\n",
       "        vertical-align: middle;\n",
       "    }\n",
       "\n",
       "    .dataframe tbody tr th {\n",
       "        vertical-align: top;\n",
       "    }\n",
       "\n",
       "    .dataframe thead th {\n",
       "        text-align: right;\n",
       "    }\n",
       "</style>\n",
       "<table border=\"1\" class=\"dataframe\">\n",
       "  <thead>\n",
       "    <tr style=\"text-align: right;\">\n",
       "      <th></th>\n",
       "      <th>Stamp</th>\n",
       "      <th>Track</th>\n",
       "      <th>Artist</th>\n",
       "      <th>Feed_Id</th>\n",
       "      <th>Feed_Name</th>\n",
       "    </tr>\n",
       "  </thead>\n",
       "  <tbody>\n",
       "    <tr>\n",
       "      <th>count</th>\n",
       "      <td>521974</td>\n",
       "      <td>521974</td>\n",
       "      <td>521974</td>\n",
       "      <td>521974</td>\n",
       "      <td>521974</td>\n",
       "    </tr>\n",
       "    <tr>\n",
       "      <th>unique</th>\n",
       "      <td>384312</td>\n",
       "      <td>8</td>\n",
       "      <td>8</td>\n",
       "      <td>1479</td>\n",
       "      <td>1592</td>\n",
       "    </tr>\n",
       "    <tr>\n",
       "      <th>top</th>\n",
       "      <td>2019-01-01 01:34:12 +0000 UTC</td>\n",
       "      <td>Song_05</td>\n",
       "      <td>artist_03</td>\n",
       "      <td>feed_id_968</td>\n",
       "      <td>feed_name_223</td>\n",
       "    </tr>\n",
       "    <tr>\n",
       "      <th>freq</th>\n",
       "      <td>45</td>\n",
       "      <td>180794</td>\n",
       "      <td>180794</td>\n",
       "      <td>19654</td>\n",
       "      <td>19654</td>\n",
       "    </tr>\n",
       "  </tbody>\n",
       "</table>\n",
       "</div>"
      ],
      "text/plain": [
       "                                Stamp   Track      Artist      Feed_Id  \\\n",
       "count                          521974   521974     521974       521974   \n",
       "unique                         384312        8          8         1479   \n",
       "top     2019-01-01 01:34:12 +0000 UTC  Song_05  artist_03  feed_id_968   \n",
       "freq                               45   180794     180794        19654   \n",
       "\n",
       "            Feed_Name  \n",
       "count          521974  \n",
       "unique           1592  \n",
       "top     feed_name_223  \n",
       "freq            19654  "
      ]
     },
     "execution_count": 48,
     "metadata": {},
     "output_type": "execute_result"
    }
   ],
   "source": [
    "data_set1.describe()"
   ]
  },
  {
   "cell_type": "code",
   "execution_count": 49,
   "metadata": {
    "ExecuteTime": {
     "end_time": "2021-11-03T13:21:44.279109Z",
     "start_time": "2021-11-03T13:21:43.332711Z"
    }
   },
   "outputs": [
    {
     "data": {
      "text/plain": [
       "Stamp                          Track    Artist     Feed_Id       Feed_Name     \n",
       "2019-01-03 08:22:58 +0000 UTC  Song_04  artist_07  feed_id_1247  feed_name_1158    22\n",
       "2019-01-01 01:34:12 +0000 UTC  Song_04  artist_07  feed_id_1247  feed_name_1158    21\n",
       "2019-06-16 15:25:06 +0000 UTC  Song_01  artist_02  feed_id_1439  feed_name_16      20\n",
       "2019-01-16 03:44:25 +0000 UTC  Song_01  artist_02  feed_id_1247  feed_name_1158    19\n",
       "2019-01-04 06:42:57 +0000 UTC  Song_04  artist_07  feed_id_321   feed_name_144     18\n",
       "                                                                                   ..\n",
       "2019-08-05 22:13:00 +0000 UTC  Song_06  artist_05  feed_id_266   feed_name_1310     1\n",
       "                               Song_04  artist_07  feed_id_724   feed_name_367      1\n",
       "                                                   feed_id_1093  feed_name_362      1\n",
       "2019-08-05 22:11:00 +0000 UTC  Song_06  artist_05  feed_id_530   feed_name_1332     1\n",
       "2020-09-30 23:57:00 +0000 UTC  Song_05  artist_03  feed_id_503   feed_name_365      1\n",
       "Length: 517065, dtype: int64"
      ]
     },
     "execution_count": 49,
     "metadata": {},
     "output_type": "execute_result"
    }
   ],
   "source": [
    "data_set1.value_counts()"
   ]
  },
  {
   "cell_type": "markdown",
   "metadata": {},
   "source": [
    "## Looking through the second data set"
   ]
  },
  {
   "cell_type": "code",
   "execution_count": 50,
   "metadata": {
    "ExecuteTime": {
     "end_time": "2021-11-03T13:21:45.647269Z",
     "start_time": "2021-11-03T13:21:45.638841Z"
    }
   },
   "outputs": [
    {
     "data": {
      "text/html": [
       "<div>\n",
       "<style scoped>\n",
       "    .dataframe tbody tr th:only-of-type {\n",
       "        vertical-align: middle;\n",
       "    }\n",
       "\n",
       "    .dataframe tbody tr th {\n",
       "        vertical-align: top;\n",
       "    }\n",
       "\n",
       "    .dataframe thead th {\n",
       "        text-align: right;\n",
       "    }\n",
       "</style>\n",
       "<table border=\"1\" class=\"dataframe\">\n",
       "  <thead>\n",
       "    <tr style=\"text-align: right;\">\n",
       "      <th></th>\n",
       "      <th>Feed_Id</th>\n",
       "      <th>SMP_Station</th>\n",
       "    </tr>\n",
       "  </thead>\n",
       "  <tbody>\n",
       "    <tr>\n",
       "      <th>0</th>\n",
       "      <td>feed_id_01</td>\n",
       "      <td>smp_station_name_1027</td>\n",
       "    </tr>\n",
       "    <tr>\n",
       "      <th>1</th>\n",
       "      <td>feed_id_02</td>\n",
       "      <td>smp_station_name_94</td>\n",
       "    </tr>\n",
       "    <tr>\n",
       "      <th>2</th>\n",
       "      <td>feed_id_03</td>\n",
       "      <td>smp_station_name_500</td>\n",
       "    </tr>\n",
       "    <tr>\n",
       "      <th>3</th>\n",
       "      <td>feed_id_04</td>\n",
       "      <td>smp_station_name_346</td>\n",
       "    </tr>\n",
       "    <tr>\n",
       "      <th>4</th>\n",
       "      <td>feed_id_06</td>\n",
       "      <td>smp_station_name_732</td>\n",
       "    </tr>\n",
       "  </tbody>\n",
       "</table>\n",
       "</div>"
      ],
      "text/plain": [
       "      Feed_Id            SMP_Station\n",
       "0  feed_id_01  smp_station_name_1027\n",
       "1  feed_id_02    smp_station_name_94\n",
       "2  feed_id_03   smp_station_name_500\n",
       "3  feed_id_04   smp_station_name_346\n",
       "4  feed_id_06   smp_station_name_732"
      ]
     },
     "execution_count": 50,
     "metadata": {},
     "output_type": "execute_result"
    }
   ],
   "source": [
    "data_set2.head()"
   ]
  },
  {
   "cell_type": "code",
   "execution_count": 51,
   "metadata": {
    "ExecuteTime": {
     "end_time": "2021-11-03T13:21:47.041784Z",
     "start_time": "2021-11-03T13:21:47.022577Z"
    }
   },
   "outputs": [
    {
     "data": {
      "text/html": [
       "<div>\n",
       "<style scoped>\n",
       "    .dataframe tbody tr th:only-of-type {\n",
       "        vertical-align: middle;\n",
       "    }\n",
       "\n",
       "    .dataframe tbody tr th {\n",
       "        vertical-align: top;\n",
       "    }\n",
       "\n",
       "    .dataframe thead th {\n",
       "        text-align: right;\n",
       "    }\n",
       "</style>\n",
       "<table border=\"1\" class=\"dataframe\">\n",
       "  <thead>\n",
       "    <tr style=\"text-align: right;\">\n",
       "      <th></th>\n",
       "      <th>Feed_Id</th>\n",
       "      <th>SMP_Station</th>\n",
       "    </tr>\n",
       "  </thead>\n",
       "  <tbody>\n",
       "    <tr>\n",
       "      <th>count</th>\n",
       "      <td>1125</td>\n",
       "      <td>1125</td>\n",
       "    </tr>\n",
       "    <tr>\n",
       "      <th>unique</th>\n",
       "      <td>1125</td>\n",
       "      <td>1122</td>\n",
       "    </tr>\n",
       "    <tr>\n",
       "      <th>top</th>\n",
       "      <td>feed_id_1424</td>\n",
       "      <td>smp_station_name_154</td>\n",
       "    </tr>\n",
       "    <tr>\n",
       "      <th>freq</th>\n",
       "      <td>1</td>\n",
       "      <td>2</td>\n",
       "    </tr>\n",
       "  </tbody>\n",
       "</table>\n",
       "</div>"
      ],
      "text/plain": [
       "             Feed_Id           SMP_Station\n",
       "count           1125                  1125\n",
       "unique          1125                  1122\n",
       "top     feed_id_1424  smp_station_name_154\n",
       "freq               1                     2"
      ]
     },
     "execution_count": 51,
     "metadata": {},
     "output_type": "execute_result"
    }
   ],
   "source": [
    "data_set2.describe()"
   ]
  },
  {
   "cell_type": "code",
   "execution_count": 52,
   "metadata": {
    "ExecuteTime": {
     "end_time": "2021-11-03T13:21:47.455192Z",
     "start_time": "2021-11-03T13:21:47.440966Z"
    }
   },
   "outputs": [
    {
     "data": {
      "text/plain": [
       "Feed_Id       SMP_Station          \n",
       "feed_id_01    smp_station_name_1027    1\n",
       "feed_id_544   smp_station_name_180     1\n",
       "feed_id_550   smp_station_name_963     1\n",
       "feed_id_549   smp_station_name_982     1\n",
       "feed_id_548   smp_station_name_285     1\n",
       "                                      ..\n",
       "feed_id_1448  smp_station_name_701     1\n",
       "feed_id_1449  smp_station_name_565     1\n",
       "feed_id_145   smp_station_name_21      1\n",
       "feed_id_1450  smp_station_name_288     1\n",
       "feed_id_999   smp_station_name_497     1\n",
       "Length: 1125, dtype: int64"
      ]
     },
     "execution_count": 52,
     "metadata": {},
     "output_type": "execute_result"
    }
   ],
   "source": [
    "data_set2.value_counts()"
   ]
  },
  {
   "cell_type": "markdown",
   "metadata": {},
   "source": [
    "## Merging them"
   ]
  },
  {
   "cell_type": "code",
   "execution_count": 53,
   "metadata": {
    "ExecuteTime": {
     "end_time": "2021-11-03T13:21:49.203878Z",
     "start_time": "2021-11-03T13:21:49.112932Z"
    }
   },
   "outputs": [
    {
     "data": {
      "text/html": [
       "<div>\n",
       "<style scoped>\n",
       "    .dataframe tbody tr th:only-of-type {\n",
       "        vertical-align: middle;\n",
       "    }\n",
       "\n",
       "    .dataframe tbody tr th {\n",
       "        vertical-align: top;\n",
       "    }\n",
       "\n",
       "    .dataframe thead th {\n",
       "        text-align: right;\n",
       "    }\n",
       "</style>\n",
       "<table border=\"1\" class=\"dataframe\">\n",
       "  <thead>\n",
       "    <tr style=\"text-align: right;\">\n",
       "      <th></th>\n",
       "      <th>Stamp</th>\n",
       "      <th>Track</th>\n",
       "      <th>Artist</th>\n",
       "      <th>Feed_Id</th>\n",
       "      <th>Feed_Name</th>\n",
       "      <th>SMP_Station</th>\n",
       "    </tr>\n",
       "  </thead>\n",
       "  <tbody>\n",
       "    <tr>\n",
       "      <th>0</th>\n",
       "      <td>2019-06-07 18:38:00 +0000 UTC</td>\n",
       "      <td>Song_02</td>\n",
       "      <td>artist_08</td>\n",
       "      <td>feed_id_1377</td>\n",
       "      <td>feed_name_1183</td>\n",
       "      <td>smp_station_name_294</td>\n",
       "    </tr>\n",
       "    <tr>\n",
       "      <th>1</th>\n",
       "      <td>2019-06-08 09:04:00 +0000 UTC</td>\n",
       "      <td>Song_02</td>\n",
       "      <td>artist_08</td>\n",
       "      <td>feed_id_1377</td>\n",
       "      <td>feed_name_1183</td>\n",
       "      <td>smp_station_name_294</td>\n",
       "    </tr>\n",
       "    <tr>\n",
       "      <th>2</th>\n",
       "      <td>2019-06-08 19:51:00 +0000 UTC</td>\n",
       "      <td>Song_02</td>\n",
       "      <td>artist_08</td>\n",
       "      <td>feed_id_1377</td>\n",
       "      <td>feed_name_1183</td>\n",
       "      <td>smp_station_name_294</td>\n",
       "    </tr>\n",
       "    <tr>\n",
       "      <th>3</th>\n",
       "      <td>2019-06-09 20:52:00 +0000 UTC</td>\n",
       "      <td>Song_02</td>\n",
       "      <td>artist_08</td>\n",
       "      <td>feed_id_1377</td>\n",
       "      <td>feed_name_1183</td>\n",
       "      <td>smp_station_name_294</td>\n",
       "    </tr>\n",
       "    <tr>\n",
       "      <th>4</th>\n",
       "      <td>2019-06-10 11:06:00 +0000 UTC</td>\n",
       "      <td>Song_02</td>\n",
       "      <td>artist_08</td>\n",
       "      <td>feed_id_1377</td>\n",
       "      <td>feed_name_1183</td>\n",
       "      <td>smp_station_name_294</td>\n",
       "    </tr>\n",
       "    <tr>\n",
       "      <th>...</th>\n",
       "      <td>...</td>\n",
       "      <td>...</td>\n",
       "      <td>...</td>\n",
       "      <td>...</td>\n",
       "      <td>...</td>\n",
       "      <td>...</td>\n",
       "    </tr>\n",
       "    <tr>\n",
       "      <th>521969</th>\n",
       "      <td>2020-07-16 18:09:00 +0000 UTC</td>\n",
       "      <td>Song_05</td>\n",
       "      <td>artist_03</td>\n",
       "      <td>feed_id_1254</td>\n",
       "      <td>feed_name_765</td>\n",
       "      <td>smp_station_name_848</td>\n",
       "    </tr>\n",
       "    <tr>\n",
       "      <th>521970</th>\n",
       "      <td>2019-01-10 05:33:00 +0000 UTC</td>\n",
       "      <td>Song_08</td>\n",
       "      <td>artist_01</td>\n",
       "      <td>feed_id_1202</td>\n",
       "      <td>feed_name_855</td>\n",
       "      <td>smp_station_name_325</td>\n",
       "    </tr>\n",
       "    <tr>\n",
       "      <th>521971</th>\n",
       "      <td>2019-01-25 17:31:00 +0000 UTC</td>\n",
       "      <td>Song_08</td>\n",
       "      <td>artist_01</td>\n",
       "      <td>feed_id_1202</td>\n",
       "      <td>feed_name_855</td>\n",
       "      <td>smp_station_name_325</td>\n",
       "    </tr>\n",
       "    <tr>\n",
       "      <th>521972</th>\n",
       "      <td>2019-02-11 23:01:00 +0000 UTC</td>\n",
       "      <td>Song_08</td>\n",
       "      <td>artist_01</td>\n",
       "      <td>feed_id_1202</td>\n",
       "      <td>feed_name_855</td>\n",
       "      <td>smp_station_name_325</td>\n",
       "    </tr>\n",
       "    <tr>\n",
       "      <th>521973</th>\n",
       "      <td>2019-02-12 18:09:00 +0000 UTC</td>\n",
       "      <td>Song_08</td>\n",
       "      <td>artist_01</td>\n",
       "      <td>feed_id_1202</td>\n",
       "      <td>feed_name_855</td>\n",
       "      <td>smp_station_name_325</td>\n",
       "    </tr>\n",
       "  </tbody>\n",
       "</table>\n",
       "<p>521974 rows × 6 columns</p>\n",
       "</div>"
      ],
      "text/plain": [
       "                                Stamp   Track      Artist       Feed_Id  \\\n",
       "0       2019-06-07 18:38:00 +0000 UTC  Song_02  artist_08  feed_id_1377   \n",
       "1       2019-06-08 09:04:00 +0000 UTC  Song_02  artist_08  feed_id_1377   \n",
       "2       2019-06-08 19:51:00 +0000 UTC  Song_02  artist_08  feed_id_1377   \n",
       "3       2019-06-09 20:52:00 +0000 UTC  Song_02  artist_08  feed_id_1377   \n",
       "4       2019-06-10 11:06:00 +0000 UTC  Song_02  artist_08  feed_id_1377   \n",
       "...                               ...      ...        ...           ...   \n",
       "521969  2020-07-16 18:09:00 +0000 UTC  Song_05  artist_03  feed_id_1254   \n",
       "521970  2019-01-10 05:33:00 +0000 UTC  Song_08  artist_01  feed_id_1202   \n",
       "521971  2019-01-25 17:31:00 +0000 UTC  Song_08  artist_01  feed_id_1202   \n",
       "521972  2019-02-11 23:01:00 +0000 UTC  Song_08  artist_01  feed_id_1202   \n",
       "521973  2019-02-12 18:09:00 +0000 UTC  Song_08  artist_01  feed_id_1202   \n",
       "\n",
       "             Feed_Name           SMP_Station  \n",
       "0       feed_name_1183  smp_station_name_294  \n",
       "1       feed_name_1183  smp_station_name_294  \n",
       "2       feed_name_1183  smp_station_name_294  \n",
       "3       feed_name_1183  smp_station_name_294  \n",
       "4       feed_name_1183  smp_station_name_294  \n",
       "...                ...                   ...  \n",
       "521969   feed_name_765  smp_station_name_848  \n",
       "521970   feed_name_855  smp_station_name_325  \n",
       "521971   feed_name_855  smp_station_name_325  \n",
       "521972   feed_name_855  smp_station_name_325  \n",
       "521973   feed_name_855  smp_station_name_325  \n",
       "\n",
       "[521974 rows x 6 columns]"
      ]
     },
     "execution_count": 53,
     "metadata": {},
     "output_type": "execute_result"
    }
   ],
   "source": [
    "full_data_set = data_set1.merge(data_set2, on='Feed_Id', how='left')\n",
    "full_data_set"
   ]
  },
  {
   "cell_type": "code",
   "execution_count": 54,
   "metadata": {
    "ExecuteTime": {
     "end_time": "2021-11-03T13:21:49.767291Z",
     "start_time": "2021-11-03T13:21:49.674866Z"
    }
   },
   "outputs": [
    {
     "data": {
      "text/plain": [
       "Stamp              0\n",
       "Track              0\n",
       "Artist             0\n",
       "Feed_Id            0\n",
       "Feed_Name          0\n",
       "SMP_Station    35174\n",
       "dtype: int64"
      ]
     },
     "execution_count": 54,
     "metadata": {},
     "output_type": "execute_result"
    }
   ],
   "source": [
    "# Let's look for the null data\n",
    "full_data_set.isnull().sum()"
   ]
  },
  {
   "cell_type": "markdown",
   "metadata": {},
   "source": [
    "Let's fulfill the first condition:  \n",
    "\"If you do not find the parent station for a given feed, just default to the feed info and use that as your 'station' instead.\"\""
   ]
  },
  {
   "cell_type": "code",
   "execution_count": 55,
   "metadata": {
    "ExecuteTime": {
     "end_time": "2021-11-03T13:21:51.887361Z",
     "start_time": "2021-11-03T13:21:51.784053Z"
    }
   },
   "outputs": [
    {
     "data": {
      "text/html": [
       "<div>\n",
       "<style scoped>\n",
       "    .dataframe tbody tr th:only-of-type {\n",
       "        vertical-align: middle;\n",
       "    }\n",
       "\n",
       "    .dataframe tbody tr th {\n",
       "        vertical-align: top;\n",
       "    }\n",
       "\n",
       "    .dataframe thead th {\n",
       "        text-align: right;\n",
       "    }\n",
       "</style>\n",
       "<table border=\"1\" class=\"dataframe\">\n",
       "  <thead>\n",
       "    <tr style=\"text-align: right;\">\n",
       "      <th></th>\n",
       "      <th>Stamp</th>\n",
       "      <th>Track</th>\n",
       "      <th>Artist</th>\n",
       "      <th>Feed_Id</th>\n",
       "      <th>Feed_Name</th>\n",
       "      <th>SMP_Station</th>\n",
       "    </tr>\n",
       "  </thead>\n",
       "  <tbody>\n",
       "    <tr>\n",
       "      <th>0</th>\n",
       "      <td>2019-06-07 18:38:00 +0000 UTC</td>\n",
       "      <td>Song_02</td>\n",
       "      <td>artist_08</td>\n",
       "      <td>feed_id_1377</td>\n",
       "      <td>feed_name_1183</td>\n",
       "      <td>smp_station_name_294</td>\n",
       "    </tr>\n",
       "    <tr>\n",
       "      <th>1</th>\n",
       "      <td>2019-06-08 09:04:00 +0000 UTC</td>\n",
       "      <td>Song_02</td>\n",
       "      <td>artist_08</td>\n",
       "      <td>feed_id_1377</td>\n",
       "      <td>feed_name_1183</td>\n",
       "      <td>smp_station_name_294</td>\n",
       "    </tr>\n",
       "    <tr>\n",
       "      <th>2</th>\n",
       "      <td>2019-06-08 19:51:00 +0000 UTC</td>\n",
       "      <td>Song_02</td>\n",
       "      <td>artist_08</td>\n",
       "      <td>feed_id_1377</td>\n",
       "      <td>feed_name_1183</td>\n",
       "      <td>smp_station_name_294</td>\n",
       "    </tr>\n",
       "    <tr>\n",
       "      <th>3</th>\n",
       "      <td>2019-06-09 20:52:00 +0000 UTC</td>\n",
       "      <td>Song_02</td>\n",
       "      <td>artist_08</td>\n",
       "      <td>feed_id_1377</td>\n",
       "      <td>feed_name_1183</td>\n",
       "      <td>smp_station_name_294</td>\n",
       "    </tr>\n",
       "    <tr>\n",
       "      <th>4</th>\n",
       "      <td>2019-06-10 11:06:00 +0000 UTC</td>\n",
       "      <td>Song_02</td>\n",
       "      <td>artist_08</td>\n",
       "      <td>feed_id_1377</td>\n",
       "      <td>feed_name_1183</td>\n",
       "      <td>smp_station_name_294</td>\n",
       "    </tr>\n",
       "    <tr>\n",
       "      <th>...</th>\n",
       "      <td>...</td>\n",
       "      <td>...</td>\n",
       "      <td>...</td>\n",
       "      <td>...</td>\n",
       "      <td>...</td>\n",
       "      <td>...</td>\n",
       "    </tr>\n",
       "    <tr>\n",
       "      <th>521969</th>\n",
       "      <td>2020-07-16 18:09:00 +0000 UTC</td>\n",
       "      <td>Song_05</td>\n",
       "      <td>artist_03</td>\n",
       "      <td>feed_id_1254</td>\n",
       "      <td>feed_name_765</td>\n",
       "      <td>smp_station_name_848</td>\n",
       "    </tr>\n",
       "    <tr>\n",
       "      <th>521970</th>\n",
       "      <td>2019-01-10 05:33:00 +0000 UTC</td>\n",
       "      <td>Song_08</td>\n",
       "      <td>artist_01</td>\n",
       "      <td>feed_id_1202</td>\n",
       "      <td>feed_name_855</td>\n",
       "      <td>smp_station_name_325</td>\n",
       "    </tr>\n",
       "    <tr>\n",
       "      <th>521971</th>\n",
       "      <td>2019-01-25 17:31:00 +0000 UTC</td>\n",
       "      <td>Song_08</td>\n",
       "      <td>artist_01</td>\n",
       "      <td>feed_id_1202</td>\n",
       "      <td>feed_name_855</td>\n",
       "      <td>smp_station_name_325</td>\n",
       "    </tr>\n",
       "    <tr>\n",
       "      <th>521972</th>\n",
       "      <td>2019-02-11 23:01:00 +0000 UTC</td>\n",
       "      <td>Song_08</td>\n",
       "      <td>artist_01</td>\n",
       "      <td>feed_id_1202</td>\n",
       "      <td>feed_name_855</td>\n",
       "      <td>smp_station_name_325</td>\n",
       "    </tr>\n",
       "    <tr>\n",
       "      <th>521973</th>\n",
       "      <td>2019-02-12 18:09:00 +0000 UTC</td>\n",
       "      <td>Song_08</td>\n",
       "      <td>artist_01</td>\n",
       "      <td>feed_id_1202</td>\n",
       "      <td>feed_name_855</td>\n",
       "      <td>smp_station_name_325</td>\n",
       "    </tr>\n",
       "  </tbody>\n",
       "</table>\n",
       "<p>521974 rows × 6 columns</p>\n",
       "</div>"
      ],
      "text/plain": [
       "                                Stamp   Track      Artist       Feed_Id  \\\n",
       "0       2019-06-07 18:38:00 +0000 UTC  Song_02  artist_08  feed_id_1377   \n",
       "1       2019-06-08 09:04:00 +0000 UTC  Song_02  artist_08  feed_id_1377   \n",
       "2       2019-06-08 19:51:00 +0000 UTC  Song_02  artist_08  feed_id_1377   \n",
       "3       2019-06-09 20:52:00 +0000 UTC  Song_02  artist_08  feed_id_1377   \n",
       "4       2019-06-10 11:06:00 +0000 UTC  Song_02  artist_08  feed_id_1377   \n",
       "...                               ...      ...        ...           ...   \n",
       "521969  2020-07-16 18:09:00 +0000 UTC  Song_05  artist_03  feed_id_1254   \n",
       "521970  2019-01-10 05:33:00 +0000 UTC  Song_08  artist_01  feed_id_1202   \n",
       "521971  2019-01-25 17:31:00 +0000 UTC  Song_08  artist_01  feed_id_1202   \n",
       "521972  2019-02-11 23:01:00 +0000 UTC  Song_08  artist_01  feed_id_1202   \n",
       "521973  2019-02-12 18:09:00 +0000 UTC  Song_08  artist_01  feed_id_1202   \n",
       "\n",
       "             Feed_Name           SMP_Station  \n",
       "0       feed_name_1183  smp_station_name_294  \n",
       "1       feed_name_1183  smp_station_name_294  \n",
       "2       feed_name_1183  smp_station_name_294  \n",
       "3       feed_name_1183  smp_station_name_294  \n",
       "4       feed_name_1183  smp_station_name_294  \n",
       "...                ...                   ...  \n",
       "521969   feed_name_765  smp_station_name_848  \n",
       "521970   feed_name_855  smp_station_name_325  \n",
       "521971   feed_name_855  smp_station_name_325  \n",
       "521972   feed_name_855  smp_station_name_325  \n",
       "521973   feed_name_855  smp_station_name_325  \n",
       "\n",
       "[521974 rows x 6 columns]"
      ]
     },
     "execution_count": 55,
     "metadata": {},
     "output_type": "execute_result"
    }
   ],
   "source": [
    "full_data_set = full_data_set.fillna({'SMP_Station':full_data_set['Feed_Name']})\n",
    "full_data_set"
   ]
  },
  {
   "cell_type": "code",
   "execution_count": 56,
   "metadata": {
    "ExecuteTime": {
     "end_time": "2021-11-03T13:21:53.965306Z",
     "start_time": "2021-11-03T13:21:53.868257Z"
    }
   },
   "outputs": [
    {
     "data": {
      "text/plain": [
       "Stamp          0\n",
       "Track          0\n",
       "Artist         0\n",
       "Feed_Id        0\n",
       "Feed_Name      0\n",
       "SMP_Station    0\n",
       "dtype: int64"
      ]
     },
     "execution_count": 56,
     "metadata": {},
     "output_type": "execute_result"
    }
   ],
   "source": [
    "# Let's re-check the null data\n",
    "full_data_set.isnull().sum()"
   ]
  },
  {
   "cell_type": "markdown",
   "metadata": {},
   "source": [
    "Oh, looks good now. We've met the condition for this task."
   ]
  },
  {
   "cell_type": "code",
   "execution_count": 57,
   "metadata": {
    "ExecuteTime": {
     "end_time": "2021-11-03T13:21:57.711652Z",
     "start_time": "2021-11-03T13:21:56.812327Z"
    }
   },
   "outputs": [
    {
     "data": {
      "text/plain": [
       "Stamp                          Track    Artist     Feed_Id       Feed_Name       SMP_Station          \n",
       "2019-01-03 08:22:58 +0000 UTC  Song_04  artist_07  feed_id_1247  feed_name_1158  feed_name_1158           22\n",
       "2019-01-01 01:34:12 +0000 UTC  Song_04  artist_07  feed_id_1247  feed_name_1158  feed_name_1158           21\n",
       "2019-06-16 15:25:06 +0000 UTC  Song_01  artist_02  feed_id_1439  feed_name_16    feed_name_16             20\n",
       "2019-01-16 03:44:25 +0000 UTC  Song_01  artist_02  feed_id_1247  feed_name_1158  feed_name_1158           19\n",
       "2019-01-04 06:42:57 +0000 UTC  Song_04  artist_07  feed_id_321   feed_name_144   feed_name_144            18\n",
       "                                                                                                          ..\n",
       "2019-08-05 22:13:00 +0000 UTC  Song_06  artist_05  feed_id_266   feed_name_1310  smp_station_name_685      1\n",
       "                               Song_04  artist_07  feed_id_724   feed_name_367   smp_station_name_1073     1\n",
       "                                                   feed_id_1093  feed_name_362   smp_station_name_819      1\n",
       "2019-08-05 22:11:00 +0000 UTC  Song_06  artist_05  feed_id_530   feed_name_1332  smp_station_name_125      1\n",
       "2020-09-30 23:57:00 +0000 UTC  Song_05  artist_03  feed_id_503   feed_name_365   smp_station_name_323      1\n",
       "Length: 517065, dtype: int64"
      ]
     },
     "execution_count": 57,
     "metadata": {},
     "output_type": "execute_result"
    }
   ],
   "source": [
    "full_data_set.value_counts()"
   ]
  },
  {
   "cell_type": "code",
   "execution_count": 58,
   "metadata": {
    "ExecuteTime": {
     "end_time": "2021-11-03T13:21:59.024383Z",
     "start_time": "2021-11-03T13:21:58.443967Z"
    }
   },
   "outputs": [
    {
     "data": {
      "text/html": [
       "<div>\n",
       "<style scoped>\n",
       "    .dataframe tbody tr th:only-of-type {\n",
       "        vertical-align: middle;\n",
       "    }\n",
       "\n",
       "    .dataframe tbody tr th {\n",
       "        vertical-align: top;\n",
       "    }\n",
       "\n",
       "    .dataframe thead th {\n",
       "        text-align: right;\n",
       "    }\n",
       "</style>\n",
       "<table border=\"1\" class=\"dataframe\">\n",
       "  <thead>\n",
       "    <tr style=\"text-align: right;\">\n",
       "      <th></th>\n",
       "      <th>Stamp</th>\n",
       "      <th>Track</th>\n",
       "      <th>Artist</th>\n",
       "      <th>Feed_Id</th>\n",
       "      <th>Feed_Name</th>\n",
       "      <th>SMP_Station</th>\n",
       "    </tr>\n",
       "  </thead>\n",
       "  <tbody>\n",
       "    <tr>\n",
       "      <th>count</th>\n",
       "      <td>521974</td>\n",
       "      <td>521974</td>\n",
       "      <td>521974</td>\n",
       "      <td>521974</td>\n",
       "      <td>521974</td>\n",
       "      <td>521974</td>\n",
       "    </tr>\n",
       "    <tr>\n",
       "      <th>unique</th>\n",
       "      <td>384312</td>\n",
       "      <td>8</td>\n",
       "      <td>8</td>\n",
       "      <td>1479</td>\n",
       "      <td>1592</td>\n",
       "      <td>1622</td>\n",
       "    </tr>\n",
       "    <tr>\n",
       "      <th>top</th>\n",
       "      <td>2019-01-01 01:34:12 +0000 UTC</td>\n",
       "      <td>Song_05</td>\n",
       "      <td>artist_03</td>\n",
       "      <td>feed_id_968</td>\n",
       "      <td>feed_name_223</td>\n",
       "      <td>smp_station_name_447</td>\n",
       "    </tr>\n",
       "    <tr>\n",
       "      <th>freq</th>\n",
       "      <td>45</td>\n",
       "      <td>180794</td>\n",
       "      <td>180794</td>\n",
       "      <td>19654</td>\n",
       "      <td>19654</td>\n",
       "      <td>19654</td>\n",
       "    </tr>\n",
       "  </tbody>\n",
       "</table>\n",
       "</div>"
      ],
      "text/plain": [
       "                                Stamp   Track      Artist      Feed_Id  \\\n",
       "count                          521974   521974     521974       521974   \n",
       "unique                         384312        8          8         1479   \n",
       "top     2019-01-01 01:34:12 +0000 UTC  Song_05  artist_03  feed_id_968   \n",
       "freq                               45   180794     180794        19654   \n",
       "\n",
       "            Feed_Name           SMP_Station  \n",
       "count          521974                521974  \n",
       "unique           1592                  1622  \n",
       "top     feed_name_223  smp_station_name_447  \n",
       "freq            19654                 19654  "
      ]
     },
     "execution_count": 58,
     "metadata": {},
     "output_type": "execute_result"
    }
   ],
   "source": [
    "full_data_set.describe()"
   ]
  },
  {
   "cell_type": "markdown",
   "metadata": {},
   "source": [
    "Now, let's check column types.  "
   ]
  },
  {
   "cell_type": "code",
   "execution_count": 59,
   "metadata": {
    "ExecuteTime": {
     "end_time": "2021-11-03T13:22:00.755335Z",
     "start_time": "2021-11-03T13:22:00.748741Z"
    }
   },
   "outputs": [
    {
     "data": {
      "text/plain": [
       "Stamp          object\n",
       "Track          object\n",
       "Artist         object\n",
       "Feed_Id        object\n",
       "Feed_Name      object\n",
       "SMP_Station    object\n",
       "dtype: object"
      ]
     },
     "execution_count": 59,
     "metadata": {},
     "output_type": "execute_result"
    }
   ],
   "source": [
    "full_data_set.dtypes"
   ]
  },
  {
   "cell_type": "markdown",
   "metadata": {},
   "source": [
    "It will be a good practice, to prepare Stamp data for future services or a person who will work with them later,  \n",
    "and to change it's types into a date type."
   ]
  },
  {
   "cell_type": "code",
   "execution_count": 60,
   "metadata": {
    "ExecuteTime": {
     "end_time": "2021-11-03T13:22:07.015208Z",
     "start_time": "2021-11-03T13:22:02.181042Z"
    }
   },
   "outputs": [
    {
     "data": {
      "text/html": [
       "<div>\n",
       "<style scoped>\n",
       "    .dataframe tbody tr th:only-of-type {\n",
       "        vertical-align: middle;\n",
       "    }\n",
       "\n",
       "    .dataframe tbody tr th {\n",
       "        vertical-align: top;\n",
       "    }\n",
       "\n",
       "    .dataframe thead th {\n",
       "        text-align: right;\n",
       "    }\n",
       "</style>\n",
       "<table border=\"1\" class=\"dataframe\">\n",
       "  <thead>\n",
       "    <tr style=\"text-align: right;\">\n",
       "      <th></th>\n",
       "      <th>Stamp</th>\n",
       "      <th>Track</th>\n",
       "      <th>Artist</th>\n",
       "      <th>Feed_Id</th>\n",
       "      <th>Feed_Name</th>\n",
       "      <th>SMP_Station</th>\n",
       "    </tr>\n",
       "  </thead>\n",
       "  <tbody>\n",
       "    <tr>\n",
       "      <th>0</th>\n",
       "      <td>2019-06-07 18:38:00+00:00</td>\n",
       "      <td>Song_02</td>\n",
       "      <td>artist_08</td>\n",
       "      <td>feed_id_1377</td>\n",
       "      <td>feed_name_1183</td>\n",
       "      <td>smp_station_name_294</td>\n",
       "    </tr>\n",
       "    <tr>\n",
       "      <th>1</th>\n",
       "      <td>2019-06-08 09:04:00+00:00</td>\n",
       "      <td>Song_02</td>\n",
       "      <td>artist_08</td>\n",
       "      <td>feed_id_1377</td>\n",
       "      <td>feed_name_1183</td>\n",
       "      <td>smp_station_name_294</td>\n",
       "    </tr>\n",
       "    <tr>\n",
       "      <th>2</th>\n",
       "      <td>2019-06-08 19:51:00+00:00</td>\n",
       "      <td>Song_02</td>\n",
       "      <td>artist_08</td>\n",
       "      <td>feed_id_1377</td>\n",
       "      <td>feed_name_1183</td>\n",
       "      <td>smp_station_name_294</td>\n",
       "    </tr>\n",
       "    <tr>\n",
       "      <th>3</th>\n",
       "      <td>2019-06-09 20:52:00+00:00</td>\n",
       "      <td>Song_02</td>\n",
       "      <td>artist_08</td>\n",
       "      <td>feed_id_1377</td>\n",
       "      <td>feed_name_1183</td>\n",
       "      <td>smp_station_name_294</td>\n",
       "    </tr>\n",
       "    <tr>\n",
       "      <th>4</th>\n",
       "      <td>2019-06-10 11:06:00+00:00</td>\n",
       "      <td>Song_02</td>\n",
       "      <td>artist_08</td>\n",
       "      <td>feed_id_1377</td>\n",
       "      <td>feed_name_1183</td>\n",
       "      <td>smp_station_name_294</td>\n",
       "    </tr>\n",
       "  </tbody>\n",
       "</table>\n",
       "</div>"
      ],
      "text/plain": [
       "                      Stamp   Track      Artist       Feed_Id       Feed_Name  \\\n",
       "0 2019-06-07 18:38:00+00:00  Song_02  artist_08  feed_id_1377  feed_name_1183   \n",
       "1 2019-06-08 09:04:00+00:00  Song_02  artist_08  feed_id_1377  feed_name_1183   \n",
       "2 2019-06-08 19:51:00+00:00  Song_02  artist_08  feed_id_1377  feed_name_1183   \n",
       "3 2019-06-09 20:52:00+00:00  Song_02  artist_08  feed_id_1377  feed_name_1183   \n",
       "4 2019-06-10 11:06:00+00:00  Song_02  artist_08  feed_id_1377  feed_name_1183   \n",
       "\n",
       "            SMP_Station  \n",
       "0  smp_station_name_294  \n",
       "1  smp_station_name_294  \n",
       "2  smp_station_name_294  \n",
       "3  smp_station_name_294  \n",
       "4  smp_station_name_294  "
      ]
     },
     "execution_count": 60,
     "metadata": {},
     "output_type": "execute_result"
    }
   ],
   "source": [
    "full_data_set['Stamp'] = pd.to_datetime(full_data_set['Stamp'], format=\"%Y-%m-%d %H:%M:%S %z UTC\")\n",
    "# it will be better to have date in an ISO format\n",
    "full_data_set.head()"
   ]
  },
  {
   "cell_type": "markdown",
   "metadata": {},
   "source": [
    "Yep, I've seen, that ```'Track'``` column had a name ```'Track '``` (with a space in the name),  \n",
    "I've found it during EDA steps, and add here, to make the future work with datasets easier"
   ]
  },
  {
   "cell_type": "code",
   "execution_count": 61,
   "metadata": {
    "ExecuteTime": {
     "end_time": "2021-11-03T13:22:07.056551Z",
     "start_time": "2021-11-03T13:22:07.045105Z"
    }
   },
   "outputs": [],
   "source": [
    "full_data_set = full_data_set.rename(columns={'Track ':'Track'})"
   ]
  },
  {
   "cell_type": "code",
   "execution_count": 62,
   "metadata": {
    "ExecuteTime": {
     "end_time": "2021-11-03T13:22:08.276171Z",
     "start_time": "2021-11-03T13:22:08.075866Z"
    }
   },
   "outputs": [
    {
     "data": {
      "text/html": [
       "<div>\n",
       "<style scoped>\n",
       "    .dataframe tbody tr th:only-of-type {\n",
       "        vertical-align: middle;\n",
       "    }\n",
       "\n",
       "    .dataframe tbody tr th {\n",
       "        vertical-align: top;\n",
       "    }\n",
       "\n",
       "    .dataframe thead th {\n",
       "        text-align: right;\n",
       "    }\n",
       "</style>\n",
       "<table border=\"1\" class=\"dataframe\">\n",
       "  <thead>\n",
       "    <tr style=\"text-align: right;\">\n",
       "      <th></th>\n",
       "      <th>Stamp</th>\n",
       "      <th>Track</th>\n",
       "      <th>Artist</th>\n",
       "      <th>Feed_Id</th>\n",
       "      <th>Feed_Name</th>\n",
       "      <th>SMP_Station</th>\n",
       "    </tr>\n",
       "  </thead>\n",
       "  <tbody>\n",
       "    <tr>\n",
       "      <th>0</th>\n",
       "      <td>2019-06-07 18:38:00+00:00</td>\n",
       "      <td>Song_02</td>\n",
       "      <td>artist_08</td>\n",
       "      <td>feed_id_1377</td>\n",
       "      <td>feed_name_1183</td>\n",
       "      <td>smp_station_name_294</td>\n",
       "    </tr>\n",
       "    <tr>\n",
       "      <th>1</th>\n",
       "      <td>2019-06-08 09:04:00+00:00</td>\n",
       "      <td>Song_02</td>\n",
       "      <td>artist_08</td>\n",
       "      <td>feed_id_1377</td>\n",
       "      <td>feed_name_1183</td>\n",
       "      <td>smp_station_name_294</td>\n",
       "    </tr>\n",
       "    <tr>\n",
       "      <th>2</th>\n",
       "      <td>2019-06-08 19:51:00+00:00</td>\n",
       "      <td>Song_02</td>\n",
       "      <td>artist_08</td>\n",
       "      <td>feed_id_1377</td>\n",
       "      <td>feed_name_1183</td>\n",
       "      <td>smp_station_name_294</td>\n",
       "    </tr>\n",
       "    <tr>\n",
       "      <th>3</th>\n",
       "      <td>2019-06-09 20:52:00+00:00</td>\n",
       "      <td>Song_02</td>\n",
       "      <td>artist_08</td>\n",
       "      <td>feed_id_1377</td>\n",
       "      <td>feed_name_1183</td>\n",
       "      <td>smp_station_name_294</td>\n",
       "    </tr>\n",
       "    <tr>\n",
       "      <th>4</th>\n",
       "      <td>2019-06-10 11:06:00+00:00</td>\n",
       "      <td>Song_02</td>\n",
       "      <td>artist_08</td>\n",
       "      <td>feed_id_1377</td>\n",
       "      <td>feed_name_1183</td>\n",
       "      <td>smp_station_name_294</td>\n",
       "    </tr>\n",
       "    <tr>\n",
       "      <th>...</th>\n",
       "      <td>...</td>\n",
       "      <td>...</td>\n",
       "      <td>...</td>\n",
       "      <td>...</td>\n",
       "      <td>...</td>\n",
       "      <td>...</td>\n",
       "    </tr>\n",
       "    <tr>\n",
       "      <th>521969</th>\n",
       "      <td>2020-07-16 18:09:00+00:00</td>\n",
       "      <td>Song_05</td>\n",
       "      <td>artist_03</td>\n",
       "      <td>feed_id_1254</td>\n",
       "      <td>feed_name_765</td>\n",
       "      <td>smp_station_name_848</td>\n",
       "    </tr>\n",
       "    <tr>\n",
       "      <th>521970</th>\n",
       "      <td>2019-01-10 05:33:00+00:00</td>\n",
       "      <td>Song_08</td>\n",
       "      <td>artist_01</td>\n",
       "      <td>feed_id_1202</td>\n",
       "      <td>feed_name_855</td>\n",
       "      <td>smp_station_name_325</td>\n",
       "    </tr>\n",
       "    <tr>\n",
       "      <th>521971</th>\n",
       "      <td>2019-01-25 17:31:00+00:00</td>\n",
       "      <td>Song_08</td>\n",
       "      <td>artist_01</td>\n",
       "      <td>feed_id_1202</td>\n",
       "      <td>feed_name_855</td>\n",
       "      <td>smp_station_name_325</td>\n",
       "    </tr>\n",
       "    <tr>\n",
       "      <th>521972</th>\n",
       "      <td>2019-02-11 23:01:00+00:00</td>\n",
       "      <td>Song_08</td>\n",
       "      <td>artist_01</td>\n",
       "      <td>feed_id_1202</td>\n",
       "      <td>feed_name_855</td>\n",
       "      <td>smp_station_name_325</td>\n",
       "    </tr>\n",
       "    <tr>\n",
       "      <th>521973</th>\n",
       "      <td>2019-02-12 18:09:00+00:00</td>\n",
       "      <td>Song_08</td>\n",
       "      <td>artist_01</td>\n",
       "      <td>feed_id_1202</td>\n",
       "      <td>feed_name_855</td>\n",
       "      <td>smp_station_name_325</td>\n",
       "    </tr>\n",
       "  </tbody>\n",
       "</table>\n",
       "<p>516451 rows × 6 columns</p>\n",
       "</div>"
      ],
      "text/plain": [
       "                           Stamp    Track     Artist       Feed_Id  \\\n",
       "0      2019-06-07 18:38:00+00:00  Song_02  artist_08  feed_id_1377   \n",
       "1      2019-06-08 09:04:00+00:00  Song_02  artist_08  feed_id_1377   \n",
       "2      2019-06-08 19:51:00+00:00  Song_02  artist_08  feed_id_1377   \n",
       "3      2019-06-09 20:52:00+00:00  Song_02  artist_08  feed_id_1377   \n",
       "4      2019-06-10 11:06:00+00:00  Song_02  artist_08  feed_id_1377   \n",
       "...                          ...      ...        ...           ...   \n",
       "521969 2020-07-16 18:09:00+00:00  Song_05  artist_03  feed_id_1254   \n",
       "521970 2019-01-10 05:33:00+00:00  Song_08  artist_01  feed_id_1202   \n",
       "521971 2019-01-25 17:31:00+00:00  Song_08  artist_01  feed_id_1202   \n",
       "521972 2019-02-11 23:01:00+00:00  Song_08  artist_01  feed_id_1202   \n",
       "521973 2019-02-12 18:09:00+00:00  Song_08  artist_01  feed_id_1202   \n",
       "\n",
       "             Feed_Name           SMP_Station  \n",
       "0       feed_name_1183  smp_station_name_294  \n",
       "1       feed_name_1183  smp_station_name_294  \n",
       "2       feed_name_1183  smp_station_name_294  \n",
       "3       feed_name_1183  smp_station_name_294  \n",
       "4       feed_name_1183  smp_station_name_294  \n",
       "...                ...                   ...  \n",
       "521969   feed_name_765  smp_station_name_848  \n",
       "521970   feed_name_855  smp_station_name_325  \n",
       "521971   feed_name_855  smp_station_name_325  \n",
       "521972   feed_name_855  smp_station_name_325  \n",
       "521973   feed_name_855  smp_station_name_325  \n",
       "\n",
       "[516451 rows x 6 columns]"
      ]
     },
     "execution_count": 62,
     "metadata": {},
     "output_type": "execute_result"
    }
   ],
   "source": [
    "final_data_set = full_data_set.drop_duplicates(subset=['Stamp', 'Track', 'Artist', 'SMP_Station'])\n",
    "final_data_set"
   ]
  },
  {
   "cell_type": "markdown",
   "metadata": {},
   "source": [
    "And here it comes :)  \n",
    "We have met all the conditions, mentioned in the task:  \n",
    "1. Consolidate the data so that we do not double count plays coming from feeds that belong to the same station  \n",
    "2. Further clean the data as you deem appropriate in order to perform an analysis on this dataset  \n",
    "3. Present the steps you have gone through for the data processing (eg. python notebook or any other data management tool you use)  \n",
    "  \n",
    "Now, let's see, what we can do with this final data set, and what insights we can get from the inside.  \n",
    "Let's make little changes to the DataSet, export it, and make visualisations with the Tableu."
   ]
  },
  {
   "cell_type": "code",
   "execution_count": null,
   "metadata": {
    "ExecuteTime": {
     "end_time": "2021-11-03T13:20:28.781963Z",
     "start_time": "2021-11-03T13:20:28.375047Z"
    }
   },
   "outputs": [],
   "source": [
    "final_data_set['Day'] = final_data_set.Stamp.dt.day_name()\n",
    "final_data_set['Month'] = final_data_set.Stamp.dt.month_name()\n",
    "final_data_set['Year'] = final_data_set.Stamp.dt.year"
   ]
  },
  {
   "cell_type": "code",
   "execution_count": 41,
   "metadata": {
    "ExecuteTime": {
     "end_time": "2021-11-03T13:20:36.272453Z",
     "start_time": "2021-11-03T13:20:36.254879Z"
    }
   },
   "outputs": [
    {
     "data": {
      "text/html": [
       "<div>\n",
       "<style scoped>\n",
       "    .dataframe tbody tr th:only-of-type {\n",
       "        vertical-align: middle;\n",
       "    }\n",
       "\n",
       "    .dataframe tbody tr th {\n",
       "        vertical-align: top;\n",
       "    }\n",
       "\n",
       "    .dataframe thead th {\n",
       "        text-align: right;\n",
       "    }\n",
       "</style>\n",
       "<table border=\"1\" class=\"dataframe\">\n",
       "  <thead>\n",
       "    <tr style=\"text-align: right;\">\n",
       "      <th></th>\n",
       "      <th>Stamp</th>\n",
       "      <th>Track</th>\n",
       "      <th>Artist</th>\n",
       "      <th>Feed_Id</th>\n",
       "      <th>Feed_Name</th>\n",
       "      <th>SMP_Station</th>\n",
       "      <th>Day</th>\n",
       "      <th>Month</th>\n",
       "      <th>Year</th>\n",
       "    </tr>\n",
       "  </thead>\n",
       "  <tbody>\n",
       "    <tr>\n",
       "      <th>0</th>\n",
       "      <td>2019-06-07 18:38:00+00:00</td>\n",
       "      <td>Song_02</td>\n",
       "      <td>artist_08</td>\n",
       "      <td>feed_id_1377</td>\n",
       "      <td>feed_name_1183</td>\n",
       "      <td>smp_station_name_294</td>\n",
       "      <td>Friday</td>\n",
       "      <td>June</td>\n",
       "      <td>2019</td>\n",
       "    </tr>\n",
       "    <tr>\n",
       "      <th>1</th>\n",
       "      <td>2019-06-08 09:04:00+00:00</td>\n",
       "      <td>Song_02</td>\n",
       "      <td>artist_08</td>\n",
       "      <td>feed_id_1377</td>\n",
       "      <td>feed_name_1183</td>\n",
       "      <td>smp_station_name_294</td>\n",
       "      <td>Saturday</td>\n",
       "      <td>June</td>\n",
       "      <td>2019</td>\n",
       "    </tr>\n",
       "    <tr>\n",
       "      <th>2</th>\n",
       "      <td>2019-06-08 19:51:00+00:00</td>\n",
       "      <td>Song_02</td>\n",
       "      <td>artist_08</td>\n",
       "      <td>feed_id_1377</td>\n",
       "      <td>feed_name_1183</td>\n",
       "      <td>smp_station_name_294</td>\n",
       "      <td>Saturday</td>\n",
       "      <td>June</td>\n",
       "      <td>2019</td>\n",
       "    </tr>\n",
       "    <tr>\n",
       "      <th>3</th>\n",
       "      <td>2019-06-09 20:52:00+00:00</td>\n",
       "      <td>Song_02</td>\n",
       "      <td>artist_08</td>\n",
       "      <td>feed_id_1377</td>\n",
       "      <td>feed_name_1183</td>\n",
       "      <td>smp_station_name_294</td>\n",
       "      <td>Sunday</td>\n",
       "      <td>June</td>\n",
       "      <td>2019</td>\n",
       "    </tr>\n",
       "    <tr>\n",
       "      <th>4</th>\n",
       "      <td>2019-06-10 11:06:00+00:00</td>\n",
       "      <td>Song_02</td>\n",
       "      <td>artist_08</td>\n",
       "      <td>feed_id_1377</td>\n",
       "      <td>feed_name_1183</td>\n",
       "      <td>smp_station_name_294</td>\n",
       "      <td>Monday</td>\n",
       "      <td>June</td>\n",
       "      <td>2019</td>\n",
       "    </tr>\n",
       "    <tr>\n",
       "      <th>...</th>\n",
       "      <td>...</td>\n",
       "      <td>...</td>\n",
       "      <td>...</td>\n",
       "      <td>...</td>\n",
       "      <td>...</td>\n",
       "      <td>...</td>\n",
       "      <td>...</td>\n",
       "      <td>...</td>\n",
       "      <td>...</td>\n",
       "    </tr>\n",
       "    <tr>\n",
       "      <th>521969</th>\n",
       "      <td>2020-07-16 18:09:00+00:00</td>\n",
       "      <td>Song_05</td>\n",
       "      <td>artist_03</td>\n",
       "      <td>feed_id_1254</td>\n",
       "      <td>feed_name_765</td>\n",
       "      <td>smp_station_name_848</td>\n",
       "      <td>Thursday</td>\n",
       "      <td>July</td>\n",
       "      <td>2020</td>\n",
       "    </tr>\n",
       "    <tr>\n",
       "      <th>521970</th>\n",
       "      <td>2019-01-10 05:33:00+00:00</td>\n",
       "      <td>Song_08</td>\n",
       "      <td>artist_01</td>\n",
       "      <td>feed_id_1202</td>\n",
       "      <td>feed_name_855</td>\n",
       "      <td>smp_station_name_325</td>\n",
       "      <td>Thursday</td>\n",
       "      <td>January</td>\n",
       "      <td>2019</td>\n",
       "    </tr>\n",
       "    <tr>\n",
       "      <th>521971</th>\n",
       "      <td>2019-01-25 17:31:00+00:00</td>\n",
       "      <td>Song_08</td>\n",
       "      <td>artist_01</td>\n",
       "      <td>feed_id_1202</td>\n",
       "      <td>feed_name_855</td>\n",
       "      <td>smp_station_name_325</td>\n",
       "      <td>Friday</td>\n",
       "      <td>January</td>\n",
       "      <td>2019</td>\n",
       "    </tr>\n",
       "    <tr>\n",
       "      <th>521972</th>\n",
       "      <td>2019-02-11 23:01:00+00:00</td>\n",
       "      <td>Song_08</td>\n",
       "      <td>artist_01</td>\n",
       "      <td>feed_id_1202</td>\n",
       "      <td>feed_name_855</td>\n",
       "      <td>smp_station_name_325</td>\n",
       "      <td>Monday</td>\n",
       "      <td>February</td>\n",
       "      <td>2019</td>\n",
       "    </tr>\n",
       "    <tr>\n",
       "      <th>521973</th>\n",
       "      <td>2019-02-12 18:09:00+00:00</td>\n",
       "      <td>Song_08</td>\n",
       "      <td>artist_01</td>\n",
       "      <td>feed_id_1202</td>\n",
       "      <td>feed_name_855</td>\n",
       "      <td>smp_station_name_325</td>\n",
       "      <td>Tuesday</td>\n",
       "      <td>February</td>\n",
       "      <td>2019</td>\n",
       "    </tr>\n",
       "  </tbody>\n",
       "</table>\n",
       "<p>516451 rows × 9 columns</p>\n",
       "</div>"
      ],
      "text/plain": [
       "                           Stamp    Track     Artist       Feed_Id  \\\n",
       "0      2019-06-07 18:38:00+00:00  Song_02  artist_08  feed_id_1377   \n",
       "1      2019-06-08 09:04:00+00:00  Song_02  artist_08  feed_id_1377   \n",
       "2      2019-06-08 19:51:00+00:00  Song_02  artist_08  feed_id_1377   \n",
       "3      2019-06-09 20:52:00+00:00  Song_02  artist_08  feed_id_1377   \n",
       "4      2019-06-10 11:06:00+00:00  Song_02  artist_08  feed_id_1377   \n",
       "...                          ...      ...        ...           ...   \n",
       "521969 2020-07-16 18:09:00+00:00  Song_05  artist_03  feed_id_1254   \n",
       "521970 2019-01-10 05:33:00+00:00  Song_08  artist_01  feed_id_1202   \n",
       "521971 2019-01-25 17:31:00+00:00  Song_08  artist_01  feed_id_1202   \n",
       "521972 2019-02-11 23:01:00+00:00  Song_08  artist_01  feed_id_1202   \n",
       "521973 2019-02-12 18:09:00+00:00  Song_08  artist_01  feed_id_1202   \n",
       "\n",
       "             Feed_Name           SMP_Station       Day     Month  Year  \n",
       "0       feed_name_1183  smp_station_name_294    Friday      June  2019  \n",
       "1       feed_name_1183  smp_station_name_294  Saturday      June  2019  \n",
       "2       feed_name_1183  smp_station_name_294  Saturday      June  2019  \n",
       "3       feed_name_1183  smp_station_name_294    Sunday      June  2019  \n",
       "4       feed_name_1183  smp_station_name_294    Monday      June  2019  \n",
       "...                ...                   ...       ...       ...   ...  \n",
       "521969   feed_name_765  smp_station_name_848  Thursday      July  2020  \n",
       "521970   feed_name_855  smp_station_name_325  Thursday   January  2019  \n",
       "521971   feed_name_855  smp_station_name_325    Friday   January  2019  \n",
       "521972   feed_name_855  smp_station_name_325    Monday  February  2019  \n",
       "521973   feed_name_855  smp_station_name_325   Tuesday  February  2019  \n",
       "\n",
       "[516451 rows x 9 columns]"
      ]
     },
     "execution_count": 41,
     "metadata": {},
     "output_type": "execute_result"
    }
   ],
   "source": [
    "final_data_set"
   ]
  },
  {
   "cell_type": "code",
   "execution_count": 42,
   "metadata": {
    "ExecuteTime": {
     "end_time": "2021-11-03T13:21:35.776117Z",
     "start_time": "2021-11-03T13:21:31.845579Z"
    }
   },
   "outputs": [],
   "source": [
    "final_data_set.to_csv('final_table.csv')"
   ]
  },
  {
   "cell_type": "markdown",
   "metadata": {},
   "source": [
    "As we can see in the Tableu – there are Artists \"leaders\" and artists \"outsiders\" in number of plays.  \n",
    "Also, we can see that there is no anomaly in plays rate (hourly, dayly, monthly), I mean, there were no drops (abnormal decline) in plays during the period.  \n",
    "If there will be any abnormal decline in future – we can check, which feed and station was the cause for it.  \n",
    "Also, we can check the promo campaigns for outsiders and leaders, and find, what leads for so low\\high playrate.  \n",
    "Also, we can check (in future) the genre and target audience (for outsiders and leaders).  \n",
    "E.t.c.\n",
    "  \n",
    "Unfortunately, we don't have any GEO data here.  \n",
    "It will be cool to set playrate on the map, and absolutely cool to see in in the \"livestream\"."
   ]
  },
  {
   "cell_type": "code",
   "execution_count": null,
   "metadata": {},
   "outputs": [],
   "source": []
  },
  {
   "cell_type": "code",
   "execution_count": null,
   "metadata": {},
   "outputs": [],
   "source": []
  },
  {
   "cell_type": "code",
   "execution_count": null,
   "metadata": {},
   "outputs": [],
   "source": []
  },
  {
   "cell_type": "code",
   "execution_count": null,
   "metadata": {},
   "outputs": [],
   "source": []
  },
  {
   "cell_type": "code",
   "execution_count": null,
   "metadata": {},
   "outputs": [],
   "source": []
  },
  {
   "cell_type": "code",
   "execution_count": null,
   "metadata": {},
   "outputs": [],
   "source": []
  },
  {
   "cell_type": "code",
   "execution_count": null,
   "metadata": {},
   "outputs": [],
   "source": []
  },
  {
   "cell_type": "code",
   "execution_count": null,
   "metadata": {},
   "outputs": [],
   "source": []
  },
  {
   "cell_type": "code",
   "execution_count": null,
   "metadata": {},
   "outputs": [],
   "source": []
  }
 ],
 "metadata": {
  "kernelspec": {
   "display_name": "Python 3",
   "language": "python",
   "name": "python3"
  },
  "language_info": {
   "codemirror_mode": {
    "name": "ipython",
    "version": 3
   },
   "file_extension": ".py",
   "mimetype": "text/x-python",
   "name": "python",
   "nbconvert_exporter": "python",
   "pygments_lexer": "ipython3",
   "version": "3.9.1"
  },
  "toc": {
   "base_numbering": 1,
   "nav_menu": {},
   "number_sections": true,
   "sideBar": true,
   "skip_h1_title": false,
   "title_cell": "Table of Contents",
   "title_sidebar": "Contents",
   "toc_cell": false,
   "toc_position": {},
   "toc_section_display": true,
   "toc_window_display": false
  },
  "varInspector": {
   "cols": {
    "lenName": 16,
    "lenType": 16,
    "lenVar": 40
   },
   "kernels_config": {
    "python": {
     "delete_cmd_postfix": "",
     "delete_cmd_prefix": "del ",
     "library": "var_list.py",
     "varRefreshCmd": "print(var_dic_list())"
    },
    "r": {
     "delete_cmd_postfix": ") ",
     "delete_cmd_prefix": "rm(",
     "library": "var_list.r",
     "varRefreshCmd": "cat(var_dic_list()) "
    }
   },
   "types_to_exclude": [
    "module",
    "function",
    "builtin_function_or_method",
    "instance",
    "_Feature"
   ],
   "window_display": false
  }
 },
 "nbformat": 4,
 "nbformat_minor": 4
}
